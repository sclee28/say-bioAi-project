{
 "cells": [
  {
   "cell_type": "markdown",
   "metadata": {},
   "source": [
    "# MIMIC-CXR 데이터 전처리 전략\n",
    "\n",
    "## 목적\n",
    "MIMIC-CXR 데이터는 방대한 양의 X-ray 이미지와 라벨 정보를 포함하고 있으나, 다음과 같은 이유로 **노이즈 제거 및 샘플 균형 조절**이 필요합니다:\n",
    "\n",
    "- 동일 환자가 지나치게 많은 X-ray 이미지를 갖는 경우 → 편향 위험\n",
    "- 다양한 촬영 자세(ViewPosition)로 인한 이미지 변동성\n",
    "- 보조기구(Support Devices)로 인한 시각적 잡음\n",
    "\n",
    "---\n",
    "\n",
    "## 🧪 필터링 조건 요약\n",
    "\n",
    "| 조건 | 설명 | 목적 |\n",
    "|------|------|------|\n",
    "| **촬영 자세(View Position)** | 가장 많이 사용된 자세만 유지 (예: PA 또는 AP) | 자세 불일치로 인한 노이즈 제거 |\n",
    "| **보조기구 미포함** | `Support Devices`가 `NaN` 또는 `0.0`인 경우만 유지 | 튜브, 선 등의 시각적 요소 제거 |\n",
    "| **환자당 최대 N개 이미지 유지** | 동일 환자(`subject_id`) 당 최대 5개의 X-ray만 포함 | 데이터 불균형 방지 및 모델 일반화 성능 확보 |\n",
    "\n",
    "---\n",
    "\n",
    "## 전처리 후 기대 효과\n",
    "\n",
    "- 데이터셋 내 **샘플 균형 개선**\n",
    "- **촬영 조건 표준화**로 모델 훈련 안정성 향상\n",
    "- 불필요한 시각적 요소 제거로 **진단 관련 특징에 집중 가능**\n",
    "- 환자 간 분산 확보 → **overfitting 방지**"
   ]
  },
  {
   "cell_type": "markdown",
   "metadata": {},
   "source": [
    "## 1. ✅ 6개 이상 이미지 가진 환자 제거\n",
    "- `subject_id` 기준으로 이미지 개수 집계\n",
    "- 5개 이상 가진 환자는 **전체 제외** (데이터 과대표집 방지)"
   ]
  },
  {
   "cell_type": "code",
   "execution_count": 5,
   "metadata": {},
   "outputs": [],
   "source": [
    "import pandas as pd\n",
    "\n",
    "# 1. 데이터 불러오기\n",
    "chexpert_path = 'mimic-cxr_csv/mimic-cxr-2.0.0-chexpert.csv'\n",
    "metadata_path = 'mimic-cxr_csv/mimic-cxr-2.0.0-metadata.csv'\n",
    "\n",
    "df_chexpert = pd.read_csv(chexpert_path)\n",
    "df_metadata = pd.read_csv(metadata_path)\n",
    "\n",
    "# 2. subject_id 기준 이미지 수 세고, 6개 이상 가진 환자 제외\n",
    "image_counts = df_chexpert['subject_id'].value_counts()\n",
    "subjects_to_exclude = image_counts[image_counts >= 6].index\n",
    "df_filtered = df_chexpert[~df_chexpert['subject_id'].isin(subjects_to_exclude)]"
   ]
  },
  {
   "cell_type": "code",
   "execution_count": 6,
   "metadata": {},
   "outputs": [
    {
     "name": "stdout",
     "output_type": "stream",
     "text": [
      "study_id\n",
      "1    32697\n",
      "2    10943\n",
      "3     5671\n",
      "4     3572\n",
      "5     2416\n",
      "Name: count, dtype: int64\n"
     ]
    }
   ],
   "source": [
    "study_counts_per_patient = df_filtered.groupby(\"subject_id\")[\"study_id\"].nunique()\n",
    "study_distribution = study_counts_per_patient.value_counts().sort_index()\n",
    "\n",
    "print(study_distribution)"
   ]
  },
  {
   "cell_type": "markdown",
   "metadata": {},
   "source": [
    "## 2. ✅ Support Devices 없는 환자만 필터링\n",
    "- `Support Devices == 0.0` 또는 `NaN`만 유지\n",
    "- 튜브, 카테터 등 **진단과 무관한 시각적 요소 제거**"
   ]
  },
  {
   "cell_type": "code",
   "execution_count": 7,
   "metadata": {},
   "outputs": [],
   "source": [
    "# 3. Support Devices 없는 경우만 남기기 (0.0 또는 NaN)\n",
    "df_filtered = df_filtered[\n",
    "    (df_filtered['Support Devices'] == 0.0) | \n",
    "    (df_filtered['Support Devices'].isna())\n",
    "]"
   ]
  },
  {
   "cell_type": "markdown",
   "metadata": {},
   "source": [
    "## 3. ✅ 메타데이터 병합\n",
    "- `mimic-cxr-2.0.0-metadata.csv`와 `subject_id`, `study_id` 기준 병합\n",
    "- **ViewPosition**, `StudyDate`, `dicom_id` 등 정보 추가 확보"
   ]
  },
  {
   "cell_type": "code",
   "execution_count": 8,
   "metadata": {},
   "outputs": [],
   "source": [
    "# 4. 메타데이터 병합 (subject_id, study_id 기준)\n",
    "df_merged = pd.merge(df_filtered, df_metadata, on=[\"subject_id\", \"study_id\"], how=\"inner\")\n"
   ]
  },
  {
   "cell_type": "markdown",
   "metadata": {},
   "source": [
    "## 4. ✅ 가장 흔한 View Position만 유지 (예: PA 또는 AP)\n",
    "- `ViewPosition` 기준으로 가장 많은 값 하나만 유지\n",
    "- 자세 불일치로 인한 이미지 다양성 제거"
   ]
  },
  {
   "cell_type": "code",
   "execution_count": 9,
   "metadata": {},
   "outputs": [],
   "source": [
    "# 5. 가장 많이 등장한 ViewPosition 값 선택\n",
    "most_common_view = df_merged['ViewPosition'].value_counts().idxmax()"
   ]
  },
  {
   "cell_type": "code",
   "execution_count": 10,
   "metadata": {},
   "outputs": [],
   "source": [
    "# 6. 해당 ViewPosition만 필터링\n",
    "df_final = df_merged[df_merged['ViewPosition'] == most_common_view]"
   ]
  },
  {
   "cell_type": "markdown",
   "metadata": {},
   "source": [
    "## 5.최종 데이터 특징"
   ]
  },
  {
   "cell_type": "code",
   "execution_count": 11,
   "metadata": {},
   "outputs": [
    {
     "name": "stdout",
     "output_type": "stream",
     "text": [
      "최종 샘플 수: 57380\n",
      "가장 흔한 ViewPosition: PA\n",
      "    subject_id  study_id                                      dicom_id  \\\n",
      "0     10000032  50414267  02aa804e-bde0afdd-112c0b34-7bc16630-4e384014   \n",
      "2     10000032  53189527  2a2277a9-b0ded155-c0de8eb9-c124d10e-82c5caab   \n",
      "11    10000898  50771383  2a280266-c8bae121-54d75383-cac046f4-ca37aa16   \n",
      "14    10000898  54205396  b75df1bd-0f22d631-52d73526-2ae7b85a-d843b39d   \n",
      "15    10001038  58224503  28fad2ac-d6001216-b4f72c5b-2d4d452e-17b6c9a5   \n",
      "\n",
      "   ViewPosition  \n",
      "0            PA  \n",
      "2            PA  \n",
      "11           PA  \n",
      "14           PA  \n",
      "15           PA  \n"
     ]
    }
   ],
   "source": [
    "# 7. 결과 확인\n",
    "print(f\"최종 샘플 수: {len(df_final)}\")\n",
    "print(f\"가장 흔한 ViewPosition: {most_common_view}\")\n",
    "print(df_final[['subject_id', 'study_id', 'dicom_id', 'ViewPosition']].head())"
   ]
  },
  {
   "cell_type": "code",
   "execution_count": 12,
   "metadata": {},
   "outputs": [
    {
     "name": "stdout",
     "output_type": "stream",
     "text": [
      "No Finding                    63.38\n",
      "Lung Opacity                  10.75\n",
      "Atelectasis                    6.90\n",
      "Cardiomegaly                   6.83\n",
      "Pleural Effusion               5.58\n",
      "Pneumonia                      5.25\n",
      "Lung Lesion                    2.36\n",
      "Fracture                       1.92\n",
      "Edema                          1.80\n",
      "Consolidation                  1.14\n",
      "Enlarged Cardiomediastinum     1.09\n",
      "Pleural Other                  0.67\n",
      "Pneumothorax                   0.65\n",
      "dtype: float64\n"
     ]
    }
   ],
   "source": [
    "# 1. 질병 라벨 컬럼만 선택 (subject_id, study_id, Support Devices 제외)\n",
    "label_cols = df_chexpert.columns[2:-1]  # CheXpert의 질병 라벨 컬럼 순서 유지\n",
    "\n",
    "# 2. df_final에 존재하는 질병 컬럼만 필터 (혹시 일부 빠졌을 수도 있음)\n",
    "available_labels = [col for col in label_cols if col in df_final.columns]\n",
    "\n",
    "# 3. 각 라벨에서 1.0의 비율 계산 (%)\n",
    "positive_ratios = (df_final[available_labels] == 1.0).sum() / len(df_final) * 100\n",
    "\n",
    "# 4. 정렬 및 출력\n",
    "positive_ratios = positive_ratios.sort_values(ascending=False).round(2)\n",
    "print(positive_ratios)\n"
   ]
  },
  {
   "cell_type": "code",
   "execution_count": 13,
   "metadata": {},
   "outputs": [
    {
     "name": "stdout",
     "output_type": "stream",
     "text": [
      "No Finding                    36368\n",
      "Lung Opacity                   6171\n",
      "Atelectasis                    3961\n",
      "Cardiomegaly                   3921\n",
      "Pleural Effusion               3202\n",
      "Pneumonia                      3015\n",
      "Lung Lesion                    1355\n",
      "Fracture                       1104\n",
      "Edema                          1033\n",
      "Consolidation                   657\n",
      "Enlarged Cardiomediastinum      625\n",
      "Pleural Other                   383\n",
      "Pneumothorax                    374\n",
      "dtype: int64\n"
     ]
    }
   ],
   "source": [
    "positive_counts = (df_final[available_labels] == 1.0).sum().sort_values(ascending=False)\n",
    "\n",
    "\n",
    "print(positive_counts)"
   ]
  },
  {
   "cell_type": "markdown",
   "metadata": {},
   "source": [
    "### 레이블 분포 확인"
   ]
  },
  {
   "cell_type": "code",
   "execution_count": 14,
   "metadata": {},
   "outputs": [
    {
     "name": "stdout",
     "output_type": "stream",
     "text": [
      "                            Positive (1.0)  Negative (0.0)  Uncertain (-1.0)  \\\n",
      "No Finding                           36368               0                 0   \n",
      "Lung Opacity                          6171             702               606   \n",
      "Atelectasis                           3961             193              1307   \n",
      "Cardiomegaly                          3921            3350               414   \n",
      "Pleural Effusion                      3202            5696               666   \n",
      "Pneumonia                             3015            7406              3034   \n",
      "Lung Lesion                           1355             419               341   \n",
      "Fracture                              1104             407               238   \n",
      "Edema                                 1033            4974               977   \n",
      "Consolidation                          657            2186               470   \n",
      "Enlarged Cardiomediastinum             625            1434               470   \n",
      "Pleural Other                          383              60               181   \n",
      "Pneumothorax                           374            3398                81   \n",
      "\n",
      "                            Missing (NaN)  \n",
      "No Finding                          21012  \n",
      "Lung Opacity                        49901  \n",
      "Atelectasis                         51919  \n",
      "Cardiomegaly                        49695  \n",
      "Pleural Effusion                    47816  \n",
      "Pneumonia                           43925  \n",
      "Lung Lesion                         55265  \n",
      "Fracture                            55631  \n",
      "Edema                               50396  \n",
      "Consolidation                       54067  \n",
      "Enlarged Cardiomediastinum          54851  \n",
      "Pleural Other                       56756  \n",
      "Pneumothorax                        53527  \n"
     ]
    }
   ],
   "source": [
    "# 1. 질병 라벨 컬럼 추출\n",
    "label_cols = df_chexpert.columns[2:-1]\n",
    "available_labels = [col for col in label_cols if col in df_final.columns]\n",
    "\n",
    "# 2. 상태별 개수 집계\n",
    "label_distribution = pd.DataFrame({\n",
    "    'Positive (1.0)': (df_final[available_labels] == 1.0).sum(),\n",
    "    'Negative (0.0)': (df_final[available_labels] == 0.0).sum(),\n",
    "    'Uncertain (-1.0)': (df_final[available_labels] == -1.0).sum(),\n",
    "    'Missing (NaN)': df_final[available_labels].isna().sum()\n",
    "})\n",
    "\n",
    "# 3. 정렬 및 출력\n",
    "label_distribution = label_distribution.sort_values(by='Positive (1.0)', ascending=False)\n",
    "print(label_distribution)\n"
   ]
  },
  {
   "cell_type": "code",
   "execution_count": 16,
   "metadata": {},
   "outputs": [],
   "source": [
    "# 불확실(-1)과 결측(NaN)을 모두 0으로 처리\n",
    "df_final.loc[:, available_labels] = df_final[available_labels].replace(-1.0, 0.0).fillna(0.0)"
   ]
  },
  {
   "cell_type": "markdown",
   "metadata": {},
   "source": [
    "### 특정 라벨 데이터만 남기기"
   ]
  },
  {
   "cell_type": "code",
   "execution_count": 18,
   "metadata": {},
   "outputs": [],
   "source": [
    "# 드랍할 컬럼만 지정\n",
    "columns_to_drop = [\n",
    "    \"Fracture\", \"Lung Lesion\", \"Pleural Other\", \"Consolidation\",\n",
    "    \"Edema\", \"Enlarged Cardiomediastinum\", \"Pneumothorax\",\n",
    "    \"Support Devices\"\n",
    "]\n",
    "\n",
    "# 해당 컬럼들만 삭제\n",
    "df_final = df_final.drop(columns=columns_to_drop)\n"
   ]
  },
  {
   "cell_type": "code",
   "execution_count": 19,
   "metadata": {},
   "outputs": [
    {
     "name": "stdout",
     "output_type": "stream",
     "text": [
      "['subject_id', 'study_id', 'Atelectasis', 'Cardiomegaly', 'Lung Opacity', 'No Finding', 'Pleural Effusion', 'Pneumonia', 'dicom_id', 'PerformedProcedureStepDescription', 'ViewPosition', 'Rows', 'Columns', 'StudyDate', 'StudyTime', 'ProcedureCodeSequence_CodeMeaning', 'ViewCodeSequence_CodeMeaning', 'PatientOrientationCodeSequence_CodeMeaning']\n"
     ]
    }
   ],
   "source": [
    "print(df_final.columns.tolist())\n"
   ]
  },
  {
   "cell_type": "markdown",
   "metadata": {},
   "source": [
    "# 파일저장"
   ]
  },
  {
   "cell_type": "code",
   "execution_count": 20,
   "metadata": {},
   "outputs": [
    {
     "name": "stdout",
     "output_type": "stream",
     "text": [
      "파일이 저장되었습니다: mimic-cxr_csv/filtered_mimic_cxr_final.csv\n"
     ]
    }
   ],
   "source": [
    "# 파일 경로 설정 (원하는 파일명으로 바꾸세요)\n",
    "output_path = \"mimic-cxr_csv/filtered_mimic_cxr_final.csv\"\n",
    "\n",
    "# CSV 파일로 저장\n",
    "df_final.to_csv(output_path, index=False)\n",
    "\n",
    "# 저장 완료 메시지 (선택)\n",
    "print(f\"파일이 저장되었습니다: {output_path}\")\n"
   ]
  },
  {
   "cell_type": "code",
   "execution_count": null,
   "metadata": {},
   "outputs": [],
   "source": []
  }
 ],
 "metadata": {
  "kernelspec": {
   "display_name": ".venv",
   "language": "python",
   "name": "python3"
  },
  "language_info": {
   "codemirror_mode": {
    "name": "ipython",
    "version": 3
   },
   "file_extension": ".py",
   "mimetype": "text/x-python",
   "name": "python",
   "nbconvert_exporter": "python",
   "pygments_lexer": "ipython3",
   "version": "3.12.10"
  }
 },
 "nbformat": 4,
 "nbformat_minor": 2
}
